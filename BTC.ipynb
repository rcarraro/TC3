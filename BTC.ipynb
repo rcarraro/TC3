{
  "cells": [
    {
      "cell_type": "markdown",
      "metadata": {},
      "source": [
        "Bibliotecas"
      ]
    },
    {
      "cell_type": "code",
      "execution_count": 11,
      "metadata": {},
      "outputs": [],
      "source": [
        "from sklearn.linear_model import LinearRegression\n",
        "from sklearn.linear_model import Ridge, Lasso \n",
        "import xgboost as xgb\n",
        "from sklearn.ensemble import GradientBoostingRegressor\n",
        "from sklearn.neural_network import MLPRegressor\n",
        "from sklearn.preprocessing import StandardScaler\n",
        "\n",
        "from sklearn.model_selection import train_test_split, GridSearchCV\n",
        "from sklearn.metrics import mean_squared_error, r2_score,mean_absolute_error\n",
        "\n",
        "import os\n",
        "import sys\n",
        "import requests\n",
        "import pandas as pd\n",
        "import numpy as np\n",
        "from tqdm import tqdm\n",
        "import datetime\n"
      ]
    },
    {
      "cell_type": "markdown",
      "metadata": {},
      "source": [
        "Preparação dos Dados"
      ]
    },
    {
      "cell_type": "code",
      "execution_count": 12,
      "metadata": {
        "colab": {
          "base_uri": "https://localhost:8080/"
        },
        "id": "j6vjRVoAqGsf",
        "outputId": "098aa76e-6e32-4a74-ea39-a7b35368af1f"
      },
      "outputs": [],
      "source": [
        "def get_bitcoin_data():\n",
        "    url = \"https://api.coingecko.com/api/v3/coins/bitcoin/market_chart\"\n",
        "    params = {\n",
        "        'vs_currency': 'usd',\n",
        "        'days': '365',\n",
        "        'interval': 'daily'\n",
        "    }\n",
        "    response = requests.get(url, params=params)\n",
        "    data = response.json()\n",
        "    return data\n",
        "\n",
        "def prepare_data():\n",
        "    data = get_bitcoin_data()\n",
        "    prices = data['prices']\n",
        "\n",
        "\n",
        "    df = pd.DataFrame(prices, columns=['timestamp', 'price'])\n",
        "\n",
        "\n",
        "    df['timestamp'] = pd.to_datetime(df['timestamp'], unit='ms')\n",
        "    df.set_index('timestamp', inplace=True)\n",
        "\n",
        "    return df\n",
        "\n",
        "df = prepare_data()\n",
        "\n",
        "def create_features(df):\n",
        "    # Criar lags de 1 e 7 dias\n",
        "    df['lag_1'] = df['price'].shift(1)\n",
        "    df['lag_7'] = df['price'].shift(7)\n",
        "\n",
        "\n",
        "    df['ma_7'] = df['price'].rolling(window=7).mean()\n",
        "\n",
        "    df = df.dropna()\n",
        "\n",
        "    return df\n",
        "\n",
        "df_features = create_features(df)\n",
        "\n",
        "X = df_features[['lag_1', 'lag_7', 'ma_7']]\n",
        "y = df_features['price']\n",
        "\n",
        "X_train, X_test, y_train, y_test = train_test_split(X, y, test_size=0.3, random_state=42)\n",
        "\n",
        "\n",
        "# scaler = StandardScaler()\n",
        "\n",
        "# X_train = scaler.fit_transform(X_train)\n",
        "\n",
        "# X_test = scaler.transform(X_test)\n",
        "\n",
        "\n",
        "df_features.to_parquet(f\".\\\\historico_bitcoin\\\\bitcoin_data{datetime.datetime.now().strftime(\"%Y%m%d\")}.parquet\", index=True)"
      ]
    },
    {
      "cell_type": "markdown",
      "metadata": {},
      "source": [
        "Parâmetros para RIDGE e LASSO"
      ]
    },
    {
      "cell_type": "code",
      "execution_count": null,
      "metadata": {},
      "outputs": [],
      "source": [
        "alphas = [0.01, 0.1, 1.0, 10.0]\n",
        "solvers = ['auto', 'svd', 'cholesky', 'lsqr', 'sparse_cg']  \n",
        "max_iters = [100, 500, 1000]  \n",
        "\n",
        "ridge_metrics = {}\n",
        "lasso_metrics = {}\n",
        "\n",
        "for alpha in alphas:\n",
        "    for solver in solvers:\n",
        "        ridge_model = Ridge(alpha=alpha, solver=solver)\n",
        "        ridge_model.fit(X_train, y_train)\n",
        "        y_pred = ridge_model.predict(X_test)\n",
        "        ridge_metrics[(alpha, solver)] = {\n",
        "            'MSE': mean_squared_error(y_test, y_pred),\n",
        "            'R²': r2_score(y_test, y_pred)\n",
        "        }\n",
        "\n",
        "for alpha in alphas:\n",
        "    for max_iter in max_iters:\n",
        "        lasso_model = Lasso(alpha=alpha, max_iter=max_iter)\n",
        "        lasso_model.fit(X_train, y_train)\n",
        "        y_pred = lasso_model.predict(X_test)\n",
        "        lasso_metrics[(alpha, max_iter)] = {\n",
        "            'MSE': mean_squared_error(y_test, y_pred),\n",
        "            'R²': r2_score(y_test, y_pred)\n",
        "        }\n",
        "\n",
        "ridge_metrics_df = pd.DataFrame(ridge_metrics).T\n",
        "lasso_metrics_df = pd.DataFrame(lasso_metrics).T\n",
        "\n",
        "print(\"Métricas da Regressão Ridge:\")\n",
        "print(ridge_metrics_df)\n",
        "\n",
        "print(\"\\nMétricas da Regressão Lasso:\")\n",
        "print(lasso_metrics_df)\n",
        "\n",
        "best_params_ridge = ridge_metrics_df['MSE'].idxmin()\n",
        "best_params_lasso = lasso_metrics_df['MSE'].idxmin()\n",
        "\n",
        "print(\"\\nMelhores Parâmetros da Regressão Ridge:\")\n",
        "print(best_params_ridge)\n",
        "\n",
        "print(\"\\nMelhores Parâmetros da Regressão Lasso:\")\n",
        "print(best_params_lasso)\n"
      ]
    },
    {
      "cell_type": "markdown",
      "metadata": {},
      "source": [
        "Parâmetros GradientBoosting"
      ]
    },
    {
      "cell_type": "code",
      "execution_count": null,
      "metadata": {},
      "outputs": [],
      "source": [
        "\n",
        "\n",
        "n_estimators = [50, 100, 200]\n",
        "max_depth = [3, 5, 7]\n",
        "learning_rates = [0.01, 0.1, 0.2]\n",
        "min_samples_split = [2, 5, 10]\n",
        "\n",
        "gb_metrics = {}\n",
        "\n",
        "for n in n_estimators:\n",
        "    for depth in max_depth:\n",
        "        for lr in learning_rates:\n",
        "            for min_split in min_samples_split:\n",
        "                gb_model = GradientBoostingRegressor(\n",
        "                    n_estimators=n,\n",
        "                    max_depth=depth,\n",
        "                    learning_rate=lr,\n",
        "                    min_samples_split=min_split\n",
        "                )\n",
        "                gb_model.fit(X_train, y_train)\n",
        "                y_pred = gb_model.predict(X_test)\n",
        "                gb_metrics[(n, depth, lr, min_split)] = {\n",
        "                    'MSE': mean_squared_error(y_test, y_pred),\n",
        "                    'R²': r2_score(y_test, y_pred)\n",
        "                }\n",
        "\n",
        "gb_metrics_df = pd.DataFrame(gb_metrics).T\n",
        "print(\"Métricas do Gradient Boosting:\")\n",
        "print(gb_metrics_df)\n",
        "\n",
        "best_params_gb = gb_metrics_df['MSE'].idxmin()\n",
        "print(\"\\nMelhores Parâmetros:\")\n",
        "print(best_params_gb)\n"
      ]
    },
    {
      "cell_type": "markdown",
      "metadata": {},
      "source": [
        "Parâmetros xgboost"
      ]
    },
    {
      "cell_type": "code",
      "execution_count": null,
      "metadata": {},
      "outputs": [],
      "source": [
        "\n",
        "\n",
        "n_estimators = [50, 100, 200]\n",
        "learning_rates = [0.01, 0.1, 0.2]\n",
        "max_depth = [3, 5, 7]\n",
        "subsample = [0.8, 0.9, 1.0]\n",
        "\n",
        "xgb_metrics = {}\n",
        "\n",
        "for n in n_estimators:\n",
        "    for lr in learning_rates:\n",
        "        for depth in max_depth:\n",
        "            for subs in subsample:\n",
        "                xgb_model = xgb.XGBRegressor(\n",
        "                    objective='reg:squarederror',\n",
        "                    n_estimators=n,\n",
        "                    learning_rate=lr,\n",
        "                    max_depth=depth,\n",
        "                    subsample=subs\n",
        "                )\n",
        "                xgb_model.fit(X_train, y_train)\n",
        "                y_pred = xgb_model.predict(X_test)\n",
        "                xgb_metrics[(n, lr, depth, subs)] = {\n",
        "                    'MSE': mean_squared_error(y_test, y_pred),\n",
        "                    'R²': r2_score(y_test, y_pred)\n",
        "                }\n",
        "\n",
        "xgb_metrics_df = pd.DataFrame(xgb_metrics).T\n",
        "print(\"Métricas do XGBoost:\")\n",
        "print(xgb_metrics_df)\n",
        "\n",
        "best_params_xgb = xgb_metrics_df['MSE'].idxmin()\n",
        "print(\"\\nMelhores Parâmetros:\")\n",
        "print(best_params_xgb)\n"
      ]
    },
    {
      "cell_type": "markdown",
      "metadata": {},
      "source": [
        "Parâmetros MLPRegressor"
      ]
    },
    {
      "cell_type": "code",
      "execution_count": null,
      "metadata": {},
      "outputs": [],
      "source": [
        "hidden_layer_sizes = [(50,), (100,), (100, 50), (100, 100), (50, 50, 50)]\n",
        "activation = ['relu', 'tanh', 'logistic']\n",
        "alpha = [0.0001, 0.001, 0.01]\n",
        "solver = ['lbfgs', 'sgd', 'adam']\n",
        "\n",
        "nn_metrics = {}\n",
        "\n",
        "for layers in hidden_layer_sizes:\n",
        "    for act in activation:\n",
        "        for alpha_val in alpha:\n",
        "            for solver_method in solver:\n",
        "                try:\n",
        "                    nn_model = MLPRegressor(\n",
        "                        hidden_layer_sizes=layers,\n",
        "                        activation=act,\n",
        "                        alpha=alpha_val,\n",
        "                        solver=solver_method,\n",
        "                        max_iter=1000,\n",
        "                        verbose=True,\n",
        "                        learning_rate_init=0.01\n",
        "                    )\n",
        "                    nn_model.fit(X_train, y_train)\n",
        "                    y_pred = nn_model.predict(X_test)\n",
        "                    nn_metrics[(layers, act, alpha_val, solver_method)] = {\n",
        "                        'MSE': mean_squared_error(y_test, y_pred),\n",
        "                        'R²': r2_score(y_test, y_pred)\n",
        "                    }\n",
        "                except Exception as e:\n",
        "                    print(f\"Error with parameters {layers}, {act}, {alpha_val}, {solver_method}: {e}\")\n",
        "\n",
        "nn_metrics_df = pd.DataFrame(nn_metrics).T\n",
        "print(\"Métricas do MLP Regressor:\")\n",
        "print(nn_metrics_df)\n",
        "\n",
        "best_params_nn = nn_metrics_df['MSE'].idxmin()\n",
        "print(\"\\nMelhores Parâmetros:\")\n",
        "print(best_params_nn)"
      ]
    },
    {
      "cell_type": "markdown",
      "metadata": {},
      "source": [
        "Treinamento dos Modelos"
      ]
    },
    {
      "cell_type": "code",
      "execution_count": null,
      "metadata": {},
      "outputs": [],
      "source": [
        "\n",
        "#regressão linear\n",
        "linear_model = LinearRegression()\n",
        "linear_model.fit(X_train, y_train)\n",
        "\n",
        "best_alpha_ridge, best_solver_ridge = ridge_metrics_df['MSE'].idxmin()\n",
        "best_alpha_lasso, best_iters_lasso = lasso_metrics_df['MSE'].idxmin()\n",
        "\n",
        "# Regressão Ridge\n",
        "ridge_model = Ridge(alpha=best_alpha_ridge, solver=best_solver_ridge)\n",
        "ridge_model.fit(X_train, y_train)\n",
        "\n",
        "# Regressão Lasso\n",
        "lasso_model = Lasso(alpha=best_alpha_lasso,  max_iter=best_iters_lasso)\n",
        "lasso_model.fit(X_train, y_train)\n",
        "\n",
        "best_params_gb = gb_metrics_df['MSE'].idxmin()\n",
        "\n",
        "best_n_estimators, best_max_depth, best_learning_gb, best_sample_gb = best_params_gb\n",
        "\n",
        "# Gradient Boosting\n",
        "gb_model = GradientBoostingRegressor(n_estimators=n,max_depth=depth,learning_rate=lr,min_samples_split=min_split)\n",
        "gb_model.fit(X_train, y_train)\n",
        "\n",
        "best_params_xgb = xgb_metrics_df['MSE'].idxmin()\n",
        "\n",
        "best_n_estimators, best_learning_rate, best_detph_xgb, best_subsample  = best_params_xgb\n",
        "\n",
        "# XGBoost\n",
        "xgb_model = xgb.XGBRegressor(objective='reg:squarederror',n_estimators=best_n_estimators,learning_rate=best_learning_rate,max_depth=best_detph_xgb,subsample=best_subsample)\n",
        "xgb_model.fit(X_train, y_train)\n",
        "\n",
        "best_params_nn = nn_metrics_df['MSE'].idxmin()\n",
        "\n",
        "best_hidden_layer_sizes, best_activation, alpha_val,solver_method = best_params_nn\n",
        "\n",
        "# MLP Regressor\n",
        "nn_model = MLPRegressor(hidden_layer_sizes=best_hidden_layer_sizes, activation=best_activation, max_iter=1000, alpha=alpha_val, solver=solver_method)\n",
        "nn_model.fit(X_train, y_train)"
      ]
    },
    {
      "cell_type": "markdown",
      "metadata": {},
      "source": [
        "Resultados com os Modelos"
      ]
    },
    {
      "cell_type": "code",
      "execution_count": 21,
      "metadata": {
        "colab": {
          "base_uri": "https://localhost:8080/"
        },
        "id": "zVOkqadyqRYK",
        "outputId": "d83e4726-608a-4062-92da-4c513ec98270"
      },
      "outputs": [
        {
          "name": "stdout",
          "output_type": "stream",
          "text": [
            "Previsão do preço do Bitcoin para amanhã (linear_model): 823842800.10\n",
            "Previsão do preço do Bitcoin para amanhã (ridge_model): 823746711.91\n",
            "Previsão do preço do Bitcoin para amanhã (lasso_model): 823888976.19\n",
            "Previsão do preço do Bitcoin para amanhã (gb_model): 68877.68\n",
            "Previsão do preço do Bitcoin para amanhã (xgb_model): 69156.23\n",
            "Previsão do preço do Bitcoin para amanhã (nn_model): 1425658725.83\n"
          ]
        }
      ],
      "source": [
        "last_row = df_features.iloc[-1]\n",
        "\n",
        "new_data = [[last_row['lag_1'], last_row['lag_7'], last_row['ma_7']]]\n",
        "\n",
        "tomorrow_price = linear_model.predict(new_data)\n",
        "print(f'Previsão do preço do Bitcoin para amanhã (linear_model): {tomorrow_price[0]:.2f}')\n",
        "tomorrow_price = ridge_model.predict(new_data)\n",
        "print(f'Previsão do preço do Bitcoin para amanhã (ridge_model): {tomorrow_price[0]:.2f}')\n",
        "tomorrow_price = lasso_model.predict(new_data)\n",
        "print(f'Previsão do preço do Bitcoin para amanhã (lasso_model): {tomorrow_price[0]:.2f}')\n",
        "tomorrow_price = gb_model.predict(new_data)\n",
        "print(f'Previsão do preço do Bitcoin para amanhã (gb_model): {tomorrow_price[0]:.2f}')\n",
        "tomorrow_price = xgb_model.predict(new_data)\n",
        "print(f'Previsão do preço do Bitcoin para amanhã (xgb_model): {tomorrow_price[0]:.2f}')\n",
        "tomorrow_price = nn_model.predict(new_data)\n",
        "print(f'Previsão do preço do Bitcoin para amanhã (nn_model): {tomorrow_price[0]:.2f}')\n"
      ]
    },
    {
      "cell_type": "markdown",
      "metadata": {},
      "source": [
        "Comparativo dos Modelos"
      ]
    },
    {
      "cell_type": "code",
      "execution_count": null,
      "metadata": {
        "id": "W3wraan8qTEX"
      },
      "outputs": [],
      "source": [
        "def evaluate_model(model, X_test, y_test):\n",
        "    y_pred = model.predict(X_test)\n",
        "    mse = mean_squared_error(y_test, y_pred)\n",
        "    rmse = np.sqrt(mse)\n",
        "    mae = mean_absolute_error(y_test, y_pred)\n",
        "    r2 = r2_score(y_test, y_pred)\n",
        "    mape = np.mean(np.abs((y_test - y_pred) / y_test)) * 100  # Percentual\n",
        "    return mse, rmse, mae, r2, mape\n",
        "\n",
        "mse_lr, rmse_lr, mae_lr, r2_lr, mape_lr = evaluate_model(linear_model, X_test, y_test)\n",
        "\n",
        "mse_ridge, rmse_ridge, mae_ridge, r2_ridge, mape_ridge = evaluate_model(ridge_model, X_test, y_test)\n",
        "\n",
        "mse_lasso, rmse_lasso, mae_lasso, r2_lasso, mape_lasso = evaluate_model(lasso_model, X_test, y_test)\n",
        "\n",
        "mse_gb, rmse_gb, mae_gb, r2_gb, mape_gb = evaluate_model(gb_model, X_test, y_test)\n",
        "\n",
        "mse_xgb, rmse_xgb, mae_xgb, r2_xgb, mape_xgb = evaluate_model(xgb_model, X_test, y_test)\n",
        "\n",
        "mse_nn, rmse_nn, mae_nn, r2_nn, mape_nn = evaluate_model(nn_model, X_test, y_test)\n",
        "\n",
        "print(\"Desempenho dos Modelos:\")\n",
        "print(f\"Linear Regression: MSE = {mse_lr:.4f}, RMSE = {rmse_lr:.4f}, MAE = {mae_lr:.4f}, R² = {r2_lr:.4f}, MAPE = {mape_lr:.2f}%\")\n",
        "print(f\"Ridge Regression: MSE = {mse_ridge:.4f}, RMSE = {rmse_ridge:.4f}, MAE = {mae_ridge:.4f}, R² = {r2_ridge:.4f}, MAPE = {mape_ridge:.2f}%\")\n",
        "print(f\"Lasso Regression: MSE = {mse_lasso:.4f}, RMSE = {rmse_lasso:.4f}, MAE = {mae_lasso:.4f}, R² = {r2_lasso:.4f}, MAPE = {mape_lasso:.2f}%\")\n",
        "print(f\"Gradient Boosting: MSE = {mse_gb:.4f}, RMSE = {rmse_gb:.4f}, MAE = {mae_gb:.4f}, R² = {r2_gb:.4f}, MAPE = {mape_gb:.2f}%\")\n",
        "print(f\"XGBoost: MSE = {mse_xgb:.4f}, RMSE = {rmse_xgb:.4f}, MAE = {mae_xgb:.4f}, R² = {r2_xgb:.4f}, MAPE = {mape_xgb:.2f}%\")\n",
        "print(f\"MLP Regressor: MSE = {mse_nn:.4f}, RMSE = {rmse_nn:.4f}, MAE = {mae_nn:.4f}, R² = {r2_nn:.4f}, MAPE = {mape_nn:.2f}%\")\n",
        "\n"
      ]
    },
    {
      "cell_type": "code",
      "execution_count": null,
      "metadata": {},
      "outputs": [],
      "source": [
        "import json\n",
        "\n",
        "model_metrics = {\n",
        "    'Linear Regression': {'MSE': mse_lr, 'RMSE': rmse_lr, 'MAE': mae_lr, 'R2': r2_lr, 'MAPE': mape_lr},\n",
        "    'Ridge Regression': {'MSE': mse_ridge, 'RMSE': rmse_ridge, 'MAE': mae_ridge, 'R2': r2_ridge, 'MAPE': mape_ridge},\n",
        "    'Lasso Regression': {'MSE': mse_lasso, 'RMSE': rmse_lasso, 'MAE': mae_lasso, 'R2': r2_lasso, 'MAPE': mape_lasso},\n",
        "    'Gradient Boosting': {'MSE': mse_gb, 'RMSE': rmse_gb, 'MAE': mae_gb, 'R2': r2_gb, 'MAPE': mape_gb},\n",
        "    'XGBoost': {'MSE': mse_xgb, 'RMSE': rmse_xgb, 'MAE': mae_xgb, 'R2': r2_xgb, 'MAPE': mape_xgb},\n",
        "    'MLP Regressor': {'MSE': mse_nn, 'RMSE': rmse_nn, 'MAE': mae_nn, 'R2': r2_nn, 'MAPE': mape_nn}\n",
        "}\n",
        "\n",
        "model_metrics_json = json.dumps(model_metrics, indent=4)\n",
        "\n",
        "print(model_metrics_json)\n",
        "\n",
        "with open('model_metrics.json', 'w') as json_file:\n",
        "    json.dump(model_metrics, json_file, indent=4)"
      ]
    }
  ],
  "metadata": {
    "colab": {
      "provenance": []
    },
    "kernelspec": {
      "display_name": "Python 3",
      "name": "python3"
    },
    "language_info": {
      "codemirror_mode": {
        "name": "ipython",
        "version": 3
      },
      "file_extension": ".py",
      "mimetype": "text/x-python",
      "name": "python",
      "nbconvert_exporter": "python",
      "pygments_lexer": "ipython3",
      "version": "3.12.6"
    }
  },
  "nbformat": 4,
  "nbformat_minor": 0
}
